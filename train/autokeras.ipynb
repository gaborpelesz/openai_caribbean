{
 "cells": [
  {
   "cell_type": "markdown",
   "metadata": {},
   "source": [
    "# Install AutoKeras"
   ]
  },
  {
   "cell_type": "code",
   "execution_count": 1,
   "metadata": {},
   "outputs": [
    {
     "name": "stdout",
     "output_type": "stream",
     "text": [
      "--2019-12-13 10:11:38--  https://docs.google.com/uc?export=download&confirm=xAa7&id=1x8LBri6mji7OEfylBtsapZxHixS-Dv_J\n",
      "Resolving docs.google.com (docs.google.com)... 74.125.197.138, 74.125.197.100, 74.125.197.102, ...\n",
      "Connecting to docs.google.com (docs.google.com)|74.125.197.138|:443... connected.\n",
      "HTTP request sent, awaiting response... 302 Moved Temporarily\n",
      "Location: https://doc-08-24-docs.googleusercontent.com/docs/securesc/ha0ro937gcuc7l7deffksulhg5h7mbp1/5fi5anq36bn221ukp06cf9jlod6hl3q9/1576231200000/17506844314399870089/*/1x8LBri6mji7OEfylBtsapZxHixS-Dv_J?e=download [following]\n",
      "Warning: wildcards not supported in HTTP.\n",
      "--2019-12-13 10:11:38--  https://doc-08-24-docs.googleusercontent.com/docs/securesc/ha0ro937gcuc7l7deffksulhg5h7mbp1/5fi5anq36bn221ukp06cf9jlod6hl3q9/1576231200000/17506844314399870089/*/1x8LBri6mji7OEfylBtsapZxHixS-Dv_J?e=download\n",
      "Resolving doc-08-24-docs.googleusercontent.com (doc-08-24-docs.googleusercontent.com)... 74.125.197.132, 2607:f8b0:400e:c03::84\n",
      "Connecting to doc-08-24-docs.googleusercontent.com (doc-08-24-docs.googleusercontent.com)|74.125.197.132|:443... connected.\n",
      "HTTP request sent, awaiting response... 200 OK\n",
      "Length: unspecified [application/zip]\n",
      "Saving to: ‘augm_data_v2.zip’\n",
      "\n",
      "augm_data_v2.zip        [        <=>         ] 899.26M   103MB/s    in 9.0s    \n",
      "\n",
      "2019-12-13 10:11:48 (100 MB/s) - ‘augm_data_v2.zip’ saved [942947501]\n",
      "\n",
      "The extraction of the images can take some time...\n",
      "Extraction done\n"
     ]
    }
   ],
   "source": [
    "import zipfile\n",
    "!rm -r ./augmented_data\n",
    "!rm ./augm_data_v2.zip\n",
    "!wget --load-cookies /tmp/cookies.txt \"https://docs.google.com/uc?export=download&confirm=$(wget --quiet --save-cookies /tmp/cookies.txt --keep-session-cookies --no-check-certificate 'https://docs.google.com/uc?export=download&id=1x8LBri6mji7OEfylBtsapZxHixS-Dv_J' -O- | sed -rn 's/.*confirm=([0-9A-Za-z_]+).*/\\1\\n/p')&id=1x8LBri6mji7OEfylBtsapZxHixS-Dv_J\" -O augm_data_v2.zip && rm -rf /tmp/cookies.txt\n",
    "\n",
    "with zipfile.ZipFile('./augm_data_v2.zip', 'r') as zip_ref:\n",
    "        print('The extraction of the images can take some time...')\n",
    "        zip_ref.extractall('./')\n",
    "        print('Extraction done')"
   ]
  },
  {
   "cell_type": "code",
   "execution_count": 3,
   "metadata": {},
   "outputs": [
    {
     "name": "stdout",
     "output_type": "stream",
     "text": [
      "2.0.0\n"
     ]
    }
   ],
   "source": [
    "import tensorflow as tf; print(tf.__version__)"
   ]
  },
  {
   "cell_type": "code",
   "execution_count": 1,
   "metadata": {},
   "outputs": [
    {
     "name": "stdout",
     "output_type": "stream",
     "text": [
      "Requirement already satisfied: autokeras from git+git://github.com/keras-team/autokeras@master#egg=autokeras in /usr/local/lib/python3.5/dist-packages (1.0.0a0)\n",
      "Requirement already satisfied: pandas in /usr/local/lib/python3.5/dist-packages (from autokeras) (0.25.3)\n",
      "Requirement already satisfied: keras-tuner>=1.0.0 in /usr/local/lib/python3.5/dist-packages (from autokeras) (1.0.0)\n",
      "Requirement already satisfied: scikit-learn in /usr/local/lib/python3.5/dist-packages (from autokeras) (0.20.2)\n",
      "Requirement already satisfied: tensorflow>=2.0.0 in /usr/local/lib/python3.5/dist-packages (from autokeras) (2.0.0)\n",
      "Requirement already satisfied: numpy in /usr/local/lib/python3.5/dist-packages (from autokeras) (1.16.1)\n",
      "Requirement already satisfied: lightgbm in /usr/local/lib/python3.5/dist-packages (from autokeras) (2.3.1)\n",
      "Requirement already satisfied: pytz>=2017.2 in /usr/local/lib/python3.5/dist-packages (from pandas->autokeras) (2019.3)\n",
      "Requirement already satisfied: python-dateutil>=2.6.1 in /usr/local/lib/python3.5/dist-packages (from pandas->autokeras) (2.8.1)\n",
      "Requirement already satisfied: requests in /usr/local/lib/python3.5/dist-packages (from keras-tuner>=1.0.0->autokeras) (2.21.0)\n",
      "Requirement already satisfied: colorama in /usr/local/lib/python3.5/dist-packages (from keras-tuner>=1.0.0->autokeras) (0.4.1)\n",
      "Requirement already satisfied: terminaltables in /usr/local/lib/python3.5/dist-packages (from keras-tuner>=1.0.0->autokeras) (3.1.0)\n",
      "Requirement already satisfied: psutil in /usr/local/lib/python3.5/dist-packages (from keras-tuner>=1.0.0->autokeras) (5.6.5)\n",
      "Requirement already satisfied: scipy in /usr/local/lib/python3.5/dist-packages (from keras-tuner>=1.0.0->autokeras) (1.2.0)\n",
      "Requirement already satisfied: tabulate in /usr/local/lib/python3.5/dist-packages (from keras-tuner>=1.0.0->autokeras) (0.8.6)\n",
      "Requirement already satisfied: tqdm in /usr/local/lib/python3.5/dist-packages (from keras-tuner>=1.0.0->autokeras) (4.31.0)\n",
      "Requirement already satisfied: protobuf>=3.6.1 in /usr/local/lib/python3.5/dist-packages (from tensorflow>=2.0.0->autokeras) (3.10.0)\n",
      "Requirement already satisfied: astor>=0.6.0 in /usr/local/lib/python3.5/dist-packages (from tensorflow>=2.0.0->autokeras) (0.8.0)\n",
      "Requirement already satisfied: gast==0.2.2 in /usr/local/lib/python3.5/dist-packages (from tensorflow>=2.0.0->autokeras) (0.2.2)\n",
      "Requirement already satisfied: six>=1.10.0 in /usr/local/lib/python3.5/dist-packages (from tensorflow>=2.0.0->autokeras) (1.13.0)\n",
      "Requirement already satisfied: termcolor>=1.1.0 in /usr/local/lib/python3.5/dist-packages (from tensorflow>=2.0.0->autokeras) (1.1.0)\n",
      "Requirement already satisfied: wheel>=0.26 in /usr/lib/python3/dist-packages (from tensorflow>=2.0.0->autokeras) (0.29.0)\n",
      "Requirement already satisfied: google-pasta>=0.1.6 in /usr/local/lib/python3.5/dist-packages (from tensorflow>=2.0.0->autokeras) (0.1.8)\n",
      "Requirement already satisfied: tensorflow-estimator<2.1.0,>=2.0.0 in /usr/local/lib/python3.5/dist-packages (from tensorflow>=2.0.0->autokeras) (2.0.1)\n",
      "Requirement already satisfied: opt-einsum>=2.3.2 in /usr/local/lib/python3.5/dist-packages (from tensorflow>=2.0.0->autokeras) (3.1.0)\n",
      "Requirement already satisfied: keras-preprocessing>=1.0.5 in /usr/local/lib/python3.5/dist-packages (from tensorflow>=2.0.0->autokeras) (1.1.0)\n",
      "Requirement already satisfied: tensorboard<2.1.0,>=2.0.0 in /usr/local/lib/python3.5/dist-packages (from tensorflow>=2.0.0->autokeras) (2.0.2)\n",
      "Requirement already satisfied: grpcio>=1.8.6 in /usr/local/lib/python3.5/dist-packages (from tensorflow>=2.0.0->autokeras) (1.25.0)\n",
      "Requirement already satisfied: wrapt>=1.11.1 in /usr/local/lib/python3.5/dist-packages (from tensorflow>=2.0.0->autokeras) (1.11.2)\n",
      "Requirement already satisfied: absl-py>=0.7.0 in /usr/local/lib/python3.5/dist-packages (from tensorflow>=2.0.0->autokeras) (0.8.1)\n",
      "Requirement already satisfied: keras-applications>=1.0.8 in /usr/local/lib/python3.5/dist-packages (from tensorflow>=2.0.0->autokeras) (1.0.8)\n",
      "Requirement already satisfied: urllib3<1.25,>=1.21.1 in /usr/local/lib/python3.5/dist-packages (from requests->keras-tuner>=1.0.0->autokeras) (1.24.2)\n",
      "Requirement already satisfied: idna<2.9,>=2.5 in /usr/local/lib/python3.5/dist-packages (from requests->keras-tuner>=1.0.0->autokeras) (2.8)\n",
      "Requirement already satisfied: chardet<3.1.0,>=3.0.2 in /usr/local/lib/python3.5/dist-packages (from requests->keras-tuner>=1.0.0->autokeras) (3.0.4)\n",
      "Requirement already satisfied: certifi>=2017.4.17 in /usr/local/lib/python3.5/dist-packages (from requests->keras-tuner>=1.0.0->autokeras) (2019.9.11)\n",
      "Requirement already satisfied: setuptools in /usr/local/lib/python3.5/dist-packages (from protobuf>=3.6.1->tensorflow>=2.0.0->autokeras) (41.6.0)\n",
      "Requirement already satisfied: google-auth-oauthlib<0.5,>=0.4.1 in /usr/local/lib/python3.5/dist-packages (from tensorboard<2.1.0,>=2.0.0->tensorflow>=2.0.0->autokeras) (0.4.1)\n",
      "Requirement already satisfied: google-auth<2,>=1.6.3 in /usr/local/lib/python3.5/dist-packages (from tensorboard<2.1.0,>=2.0.0->tensorflow>=2.0.0->autokeras) (1.7.0)\n",
      "Requirement already satisfied: werkzeug>=0.11.15 in /usr/local/lib/python3.5/dist-packages (from tensorboard<2.1.0,>=2.0.0->tensorflow>=2.0.0->autokeras) (0.16.0)\n",
      "Requirement already satisfied: markdown>=2.6.8 in /usr/local/lib/python3.5/dist-packages (from tensorboard<2.1.0,>=2.0.0->tensorflow>=2.0.0->autokeras) (3.1.1)\n",
      "Requirement already satisfied: h5py in /usr/local/lib/python3.5/dist-packages (from keras-applications>=1.0.8->tensorflow>=2.0.0->autokeras) (2.10.0)\n",
      "Requirement already satisfied: requests-oauthlib>=0.7.0 in /usr/local/lib/python3.5/dist-packages (from google-auth-oauthlib<0.5,>=0.4.1->tensorboard<2.1.0,>=2.0.0->tensorflow>=2.0.0->autokeras) (1.3.0)\n",
      "Requirement already satisfied: rsa<4.1,>=3.1.4 in /usr/local/lib/python3.5/dist-packages (from google-auth<2,>=1.6.3->tensorboard<2.1.0,>=2.0.0->tensorflow>=2.0.0->autokeras) (4.0)\n",
      "Requirement already satisfied: pyasn1-modules>=0.2.1 in /usr/local/lib/python3.5/dist-packages (from google-auth<2,>=1.6.3->tensorboard<2.1.0,>=2.0.0->tensorflow>=2.0.0->autokeras) (0.2.7)\n",
      "Requirement already satisfied: cachetools<3.2,>=2.0.0 in /usr/local/lib/python3.5/dist-packages (from google-auth<2,>=1.6.3->tensorboard<2.1.0,>=2.0.0->tensorflow>=2.0.0->autokeras) (3.1.1)\n",
      "Requirement already satisfied: oauthlib>=3.0.0 in /usr/local/lib/python3.5/dist-packages (from requests-oauthlib>=0.7.0->google-auth-oauthlib<0.5,>=0.4.1->tensorboard<2.1.0,>=2.0.0->tensorflow>=2.0.0->autokeras) (3.1.0)\n",
      "Requirement already satisfied: pyasn1>=0.1.3 in /usr/local/lib/python3.5/dist-packages (from rsa<4.1,>=3.1.4->google-auth<2,>=1.6.3->tensorboard<2.1.0,>=2.0.0->tensorflow>=2.0.0->autokeras) (0.4.7)\n",
      "Requirement already satisfied: autokeras in /usr/local/lib/python3.5/dist-packages (1.0.0a0)\n",
      "Requirement already satisfied: tensorflow>=2.0.0 in /usr/local/lib/python3.5/dist-packages (from autokeras) (2.0.0)\n",
      "Requirement already satisfied: numpy in /usr/local/lib/python3.5/dist-packages (from autokeras) (1.16.1)\n",
      "Requirement already satisfied: keras-tuner>=1.0.0 in /usr/local/lib/python3.5/dist-packages (from autokeras) (1.0.0)\n",
      "Requirement already satisfied: lightgbm in /usr/local/lib/python3.5/dist-packages (from autokeras) (2.3.1)\n",
      "Requirement already satisfied: scikit-learn in /usr/local/lib/python3.5/dist-packages (from autokeras) (0.20.2)\n",
      "Requirement already satisfied: pandas in /usr/local/lib/python3.5/dist-packages (from autokeras) (0.25.3)\n",
      "Requirement already satisfied: tensorflow-estimator<2.1.0,>=2.0.0 in /usr/local/lib/python3.5/dist-packages (from tensorflow>=2.0.0->autokeras) (2.0.1)\n",
      "Requirement already satisfied: keras-applications>=1.0.8 in /usr/local/lib/python3.5/dist-packages (from tensorflow>=2.0.0->autokeras) (1.0.8)\n",
      "Requirement already satisfied: opt-einsum>=2.3.2 in /usr/local/lib/python3.5/dist-packages (from tensorflow>=2.0.0->autokeras) (3.1.0)\n",
      "Requirement already satisfied: six>=1.10.0 in /usr/local/lib/python3.5/dist-packages (from tensorflow>=2.0.0->autokeras) (1.13.0)\n",
      "Requirement already satisfied: termcolor>=1.1.0 in /usr/local/lib/python3.5/dist-packages (from tensorflow>=2.0.0->autokeras) (1.1.0)\n",
      "Requirement already satisfied: protobuf>=3.6.1 in /usr/local/lib/python3.5/dist-packages (from tensorflow>=2.0.0->autokeras) (3.10.0)\n",
      "Requirement already satisfied: absl-py>=0.7.0 in /usr/local/lib/python3.5/dist-packages (from tensorflow>=2.0.0->autokeras) (0.8.1)\n",
      "Requirement already satisfied: gast==0.2.2 in /usr/local/lib/python3.5/dist-packages (from tensorflow>=2.0.0->autokeras) (0.2.2)\n",
      "Requirement already satisfied: keras-preprocessing>=1.0.5 in /usr/local/lib/python3.5/dist-packages (from tensorflow>=2.0.0->autokeras) (1.1.0)\n",
      "Requirement already satisfied: wrapt>=1.11.1 in /usr/local/lib/python3.5/dist-packages (from tensorflow>=2.0.0->autokeras) (1.11.2)\n",
      "Requirement already satisfied: wheel>=0.26 in /usr/lib/python3/dist-packages (from tensorflow>=2.0.0->autokeras) (0.29.0)\n",
      "Requirement already satisfied: astor>=0.6.0 in /usr/local/lib/python3.5/dist-packages (from tensorflow>=2.0.0->autokeras) (0.8.0)\n",
      "Requirement already satisfied: grpcio>=1.8.6 in /usr/local/lib/python3.5/dist-packages (from tensorflow>=2.0.0->autokeras) (1.25.0)\n",
      "Requirement already satisfied: google-pasta>=0.1.6 in /usr/local/lib/python3.5/dist-packages (from tensorflow>=2.0.0->autokeras) (0.1.8)\n",
      "Requirement already satisfied: tensorboard<2.1.0,>=2.0.0 in /usr/local/lib/python3.5/dist-packages (from tensorflow>=2.0.0->autokeras) (2.0.2)\n",
      "Requirement already satisfied: colorama in /usr/local/lib/python3.5/dist-packages (from keras-tuner>=1.0.0->autokeras) (0.4.1)\n",
      "Requirement already satisfied: requests in /usr/local/lib/python3.5/dist-packages (from keras-tuner>=1.0.0->autokeras) (2.21.0)\n",
      "Requirement already satisfied: tqdm in /usr/local/lib/python3.5/dist-packages (from keras-tuner>=1.0.0->autokeras) (4.31.0)\n",
      "Requirement already satisfied: scipy in /usr/local/lib/python3.5/dist-packages (from keras-tuner>=1.0.0->autokeras) (1.2.0)\n",
      "Requirement already satisfied: terminaltables in /usr/local/lib/python3.5/dist-packages (from keras-tuner>=1.0.0->autokeras) (3.1.0)\n",
      "Requirement already satisfied: tabulate in /usr/local/lib/python3.5/dist-packages (from keras-tuner>=1.0.0->autokeras) (0.8.6)\n",
      "Requirement already satisfied: psutil in /usr/local/lib/python3.5/dist-packages (from keras-tuner>=1.0.0->autokeras) (5.6.5)\n",
      "Requirement already satisfied: pytz>=2017.2 in /usr/local/lib/python3.5/dist-packages (from pandas->autokeras) (2019.3)\n",
      "Requirement already satisfied: python-dateutil>=2.6.1 in /usr/local/lib/python3.5/dist-packages (from pandas->autokeras) (2.8.1)\n",
      "Requirement already satisfied: h5py in /usr/local/lib/python3.5/dist-packages (from keras-applications>=1.0.8->tensorflow>=2.0.0->autokeras) (2.10.0)\n",
      "Requirement already satisfied: setuptools in /usr/local/lib/python3.5/dist-packages (from protobuf>=3.6.1->tensorflow>=2.0.0->autokeras) (41.6.0)\n",
      "Requirement already satisfied: werkzeug>=0.11.15 in /usr/local/lib/python3.5/dist-packages (from tensorboard<2.1.0,>=2.0.0->tensorflow>=2.0.0->autokeras) (0.16.0)\n",
      "Requirement already satisfied: google-auth<2,>=1.6.3 in /usr/local/lib/python3.5/dist-packages (from tensorboard<2.1.0,>=2.0.0->tensorflow>=2.0.0->autokeras) (1.7.0)\n",
      "Requirement already satisfied: markdown>=2.6.8 in /usr/local/lib/python3.5/dist-packages (from tensorboard<2.1.0,>=2.0.0->tensorflow>=2.0.0->autokeras) (3.1.1)\n",
      "Requirement already satisfied: google-auth-oauthlib<0.5,>=0.4.1 in /usr/local/lib/python3.5/dist-packages (from tensorboard<2.1.0,>=2.0.0->tensorflow>=2.0.0->autokeras) (0.4.1)\n",
      "Requirement already satisfied: urllib3<1.25,>=1.21.1 in /usr/local/lib/python3.5/dist-packages (from requests->keras-tuner>=1.0.0->autokeras) (1.24.2)\n",
      "Requirement already satisfied: chardet<3.1.0,>=3.0.2 in /usr/local/lib/python3.5/dist-packages (from requests->keras-tuner>=1.0.0->autokeras) (3.0.4)\n",
      "Requirement already satisfied: idna<2.9,>=2.5 in /usr/local/lib/python3.5/dist-packages (from requests->keras-tuner>=1.0.0->autokeras) (2.8)\n",
      "Requirement already satisfied: certifi>=2017.4.17 in /usr/local/lib/python3.5/dist-packages (from requests->keras-tuner>=1.0.0->autokeras) (2019.9.11)\n",
      "Requirement already satisfied: cachetools<3.2,>=2.0.0 in /usr/local/lib/python3.5/dist-packages (from google-auth<2,>=1.6.3->tensorboard<2.1.0,>=2.0.0->tensorflow>=2.0.0->autokeras) (3.1.1)\n",
      "Requirement already satisfied: pyasn1-modules>=0.2.1 in /usr/local/lib/python3.5/dist-packages (from google-auth<2,>=1.6.3->tensorboard<2.1.0,>=2.0.0->tensorflow>=2.0.0->autokeras) (0.2.7)\n",
      "Requirement already satisfied: rsa<4.1,>=3.1.4 in /usr/local/lib/python3.5/dist-packages (from google-auth<2,>=1.6.3->tensorboard<2.1.0,>=2.0.0->tensorflow>=2.0.0->autokeras) (4.0)\n",
      "Requirement already satisfied: requests-oauthlib>=0.7.0 in /usr/local/lib/python3.5/dist-packages (from google-auth-oauthlib<0.5,>=0.4.1->tensorboard<2.1.0,>=2.0.0->tensorflow>=2.0.0->autokeras) (1.3.0)\n",
      "Requirement already satisfied: pyasn1<0.5.0,>=0.4.6 in /usr/local/lib/python3.5/dist-packages (from pyasn1-modules>=0.2.1->google-auth<2,>=1.6.3->tensorboard<2.1.0,>=2.0.0->tensorflow>=2.0.0->autokeras) (0.4.7)\n",
      "Requirement already satisfied: oauthlib>=3.0.0 in /usr/local/lib/python3.5/dist-packages (from requests-oauthlib>=0.7.0->google-auth-oauthlib<0.5,>=0.4.1->tensorboard<2.1.0,>=2.0.0->tensorflow>=2.0.0->autokeras) (3.1.0)\n"
     ]
    }
   ],
   "source": [
    "!pip3 install git+git://github.com/keras-team/autokeras@master#egg=autokeras # for 1.0 version\n",
    "!pip3 install autokeras # for 0.4 version"
   ]
  },
  {
   "cell_type": "code",
   "execution_count": 3,
   "metadata": {},
   "outputs": [],
   "source": [
    "import autokeras as ak"
   ]
  },
  {
   "cell_type": "code",
   "execution_count": 4,
   "metadata": {},
   "outputs": [
    {
     "data": {
      "text/plain": [
       "<module 'autokeras' from '/usr/local/lib/python3.5/dist-packages/autokeras/__init__.py'>"
      ]
     },
     "execution_count": 4,
     "metadata": {},
     "output_type": "execute_result"
    }
   ],
   "source": [
    "ak"
   ]
  },
  {
   "cell_type": "markdown",
   "metadata": {},
   "source": [
    "## Prepare data"
   ]
  },
  {
   "cell_type": "code",
   "execution_count": null,
   "metadata": {},
   "outputs": [],
   "source": [
    "import os\n",
    "import cv2\n",
    "import numpy as np\n",
    "\n",
    "train_folder = './augmented_data/train'\n",
    "\n",
    "LABELS = ['concrete_cement', 'healthy_metal', 'incomplete', 'irregular_metal', 'other']\n",
    "\n",
    "images = []\n",
    "\n",
    "for LABEL in LABELS:\n",
    "    label_dir = os.path.join(train_folder, LABEL)\n",
    "    class_num = LABELS.index(LABEL)\n",
    "    for img_path in os.listdir(label_dir):\n",
    "        img = cv2.imread(os.path.join(label_dir, img_path), 1)\n",
    "        img = cv2.cvtColor(img, cv2.COLOR_BGR2RGB)\n",
    "        images.append([cv2.resize(img, (224,224))/255.0, class_num])"
   ]
  },
  {
   "cell_type": "code",
   "execution_count": null,
   "metadata": {},
   "outputs": [],
   "source": [
    "import numpy as np\n",
    "\n",
    "x = []\n",
    "y = []\n",
    "\n",
    "for img, label in images:\n",
    "    x.append(img)\n",
    "    y.append(label)\n",
    "    \n",
    "x_train = np.array(x)\n",
    "y_train = np.array(y)"
   ]
  },
  {
   "cell_type": "markdown",
   "metadata": {},
   "source": [
    "## Run AutoKeras on augmented data"
   ]
  },
  {
   "cell_type": "code",
   "execution_count": null,
   "metadata": {},
   "outputs": [],
   "source": [
    "import autokeras as ak\n",
    "\n",
    "clf = ak.ImageClassifier()\n",
    "clf.fit(x_train, y_train)"
   ]
  }
 ],
 "metadata": {
  "kernelspec": {
   "display_name": "Python 3",
   "language": "python",
   "name": "python3"
  },
  "language_info": {
   "codemirror_mode": {
    "name": "ipython",
    "version": 3
   },
   "file_extension": ".py",
   "mimetype": "text/x-python",
   "name": "python",
   "nbconvert_exporter": "python",
   "pygments_lexer": "ipython3",
   "version": "3.5.3"
  }
 },
 "nbformat": 4,
 "nbformat_minor": 4
}
