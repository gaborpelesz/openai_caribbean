{
 "cells": [
  {
   "cell_type": "markdown",
   "metadata": {},
   "source": [
    "# Open AI Caribbean challenge"
   ]
  },
  {
   "cell_type": "markdown",
   "metadata": {},
   "source": [
    "## About the project\n",
    "\n",
    "<span style=\"color:brown\"># TODO:</span> maybe talk about why our team chose this project\n",
    "\n",
    "The regions of the Caribbean, Central America, the South Pacific and the Himalayas face a considerable number natural hazards every year, including earthquakes, hurricanes and floods. These can have a devastating effect due to building conditions in the region. In many cities, houses have been built without following sound construction standards. As such, many of these houses will likely be damaged or destroyed during the next natural disaster. What’s more, the majority of these houses are located in poor and often informal settlements that have grown over time to become very large and densely populated neighborhoods.\n",
    "\n",
    "In order to retrofit relevant buildings in those very populated areas to bring them up to better construction standards, it is paramount that buildings that face higher risk of damage be identified quickly and accurately.\n",
    "\n",
    "The traditional approach to identifying high-risk buildings is by foot: going door to door to visually assess building conditions, construction materials, roof types and other key factors that greatly influence how a building will fare during a natural disaster. This type of visual assessment is particularly time consuming and costly. A visual assessment by engineers typically takes weeks if not months and costs millions of dollars.\n",
    "\n",
    "As a result, WeRobotics is teaming up with the World Bank Global Program for Resilient Housing to put drone imagery and AI image recognition to test the following hypothesis: the use of drones can help to quickly identify relevant buildings by creating risk categories that speed up the visual assessment process. Mapping a 10 km2 neighborhood with a drone can be done within a matter of days and at a cost of a few thousand dollars at most. The point here is not to replace onsite assessments of building conditions, but rather to narrow down the number of buildings that require onsite inspection before making a retrofit decision.\n",
    "\n",
    "The Global Program for Resilient Housing has assembled unique datasets with the goal of finding machine learning models that are able to most accurately map disaster risk from drone imagery. The objective is faster, cheaper prioritization of building inspections to help target resources for disaster preparation where they will have the most impact.\n",
    "\n",
    "The goal of this challenge is to identify rooftop construction material. Roof construction material is one of the main building risks factors for earthquakes and hurricanes. Light material is more likely to fly off and leave people unprotected from strong wind, flying objects and rain during hurricanes; heavy material such as concrete is likely to collapse during an earthquake."
   ]
  },
  {
   "cell_type": "markdown",
   "metadata": {},
   "source": [
    "## What does the data looks like?\n",
    "\n",
    "The images consist of seven large high-resolution Cloud Optimized GeoTiffs of the seven different areas (The spatial resolution of the images is roughly 4 cm) like the following (example of Borde Rural):\n",
    "\n",
    "<img src=\"./images/regions/borde_rural_ortho-cog-thumbnail.png\" width=250>\n",
    "\n",
    "*(Castries and Gros Islet regions contain labels from an unverified automated process. For this reason, images from Castries and Gros Islet are included only in the training dataset.)*\n",
    "\n",
    "### Labels\n",
    "\n",
    "Every high-resolution image has lots of rooftops. Footprints are made for every rooftop and then labeled according to it's material.\n",
    "\n",
    "<img src=\"./images/regions/labeled_region.png\" width=600>\n",
    "\n",
    "Each image corresponds to train and test **GeoJSON**s, where labels are encoded as FeatureCollections. **metadata.csv** links the each image with its corresponding GeoJSON. For each area in the train set, the GeoJSON includes the unique **building ID**, **building footprint**, **roof material**, and **verified field** (see note above). For each area in the test set, the GeoJSON contains just the unique building ID and building footprint.\n",
    "\n",
    "Roof material labels are also provided in **train_labels.csv**, where each row contains a unique building ID followed by five roof material columns, with a 1.0 indicating that building's roof type and 0.0s in the remaining columns. Each building has only one roof type.\n",
    "\n",
    "| label type | example | description | count |\n",
    "|-----------------|---|:---|---|\n",
    "| concrete_cement   | <img src=\"./images/label_types/building-concrete-cement.png\" width=150> | Roofs are made of concrete or cement.  | 1518  |\n",
    "| healthy_metal   | <img src=\"./images/label_types/building-healthy-metal.png\" width=150> | Includes corrugated metal, galvanized sheeting, and other metal materials.  | 14817  |\n",
    "| incomplete      | <img src=\"./images/label_types/building-incomplete.png\" width=150> | Under construction, extremely haphazard, or damaged.  | 669  |\n",
    "| irregular_metal | <img src=\"./images/label_types/building-irregular-metal.png\" width=150> | Includes metal roofing with rusting, patching, or some damage. These roofs carry a higher risk.  | 5241  |\n",
    "| other           | <img src=\"./images/label_types/building-other.png\" width=150> | Includes shingles, tiles, red painted, or other material.  | 308  |"
   ]
  }
 ],
 "metadata": {
  "kernelspec": {
   "display_name": "Python 3",
   "language": "python",
   "name": "python3"
  },
  "language_info": {
   "codemirror_mode": {
    "name": "ipython",
    "version": 3
   },
   "file_extension": ".py",
   "mimetype": "text/x-python",
   "name": "python",
   "nbconvert_exporter": "python",
   "pygments_lexer": "ipython3",
   "version": "3.7.4"
  }
 },
 "nbformat": 4,
 "nbformat_minor": 2
}
