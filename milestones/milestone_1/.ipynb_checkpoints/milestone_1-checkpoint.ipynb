{
 "cells": [
  {
   "cell_type": "markdown",
   "metadata": {},
   "source": [
    "# About the project"
   ]
  },
  {
   "cell_type": "markdown",
   "metadata": {},
   "source": [
    "About the Project\n",
    "The regions of the Caribbean, Central America, the South Pacific and the Himalayas face a considerable number natural hazards every year, including earthquakes, hurricanes and floods. These can have a devastating effect due to building conditions in the region. In many cities, houses have been built without following sound construction standards. As such, many of these houses will likely be damaged or destroyed during the next natural disaster. What’s more, the majority of these houses are located in poor and often informal settlements that have grown over time to become very large and densely populated neighborhoods.\n",
    "\n",
    "In order to retrofit relevant buildings in those very populated areas to bring them up to better construction standards, it is paramount that buildings that face higher risk of damage be identified quickly and accurately.\n",
    "\n",
    "The traditional approach to identifying high-risk buildings is by foot: going door to door to visually assess building conditions, construction materials, roof types and other key factors that greatly influence how a building will fare during a natural disaster. This type of visual assessment is particularly time consuming and costly. A visual assessment by engineers typically takes weeks if not months and costs millions of dollars.\n",
    "\n",
    "As a result, WeRobotics is teaming up with the World Bank Global Program for Resilient Housing to put drone imagery and AI image recognition to test the following hypothesis: the use of drones can help to quickly identify relevant buildings by creating risk categories that speed up the visual assessment process. Mapping a 10 km2 neighborhood with a drone can be done within a matter of days and at a cost of a few thousand dollars at most. The point here is not to replace onsite assessments of building conditions, but rather to narrow down the number of buildings that require onsite inspection before making a retrofit decision.\n",
    "\n",
    "The Global Program for Resilient Housing has assembled unique datasets with the goal of finding machine learning models that are able to most accurately map disaster risk from drone imagery. The objective is faster, cheaper prioritization of building inspections to help target resources for disaster preparation where they will have the most impact.\n",
    "\n",
    "The goal of this challenge is to identify rooftop construction material. Roof construction material is one of the main building risks factors for earthquakes and hurricanes. Light material is more likely to fly off and leave people unprotected from strong wind, flying objects and rain during hurricanes; heavy material such as concrete is likely to collapse during an earthquake."
   ]
  }
 ],
 "metadata": {
  "kernelspec": {
   "display_name": "Python 3",
   "language": "python",
   "name": "python3"
  },
  "language_info": {
   "codemirror_mode": {
    "name": "ipython",
    "version": 3
   },
   "file_extension": ".py",
   "mimetype": "text/x-python",
   "name": "python",
   "nbconvert_exporter": "python",
   "pygments_lexer": "ipython3",
   "version": "3.7.3"
  }
 },
 "nbformat": 4,
 "nbformat_minor": 2
}
